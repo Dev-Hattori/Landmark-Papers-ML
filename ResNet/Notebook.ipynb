{
 "cells": [
  {
   "cell_type": "markdown",
   "metadata": {},
   "source": [
    "# Residual Network\n",
    "Introduced by He et al. in [Deep Residual Learning for Image Recognition](https://paperswithcode.com/paper/deep-residual-learning-for-image-recognition)\n",
    "\n",
    "The paper argues that deeper neural networks are more difficult to train but deep networks naturally integrate low/mid/highlevel features  and classifiers in an end-to-end multilayer fashion, and the “levels” of features can be enriched by the number of stacked layers (depth). And thus, should perform at least as well as shallower models because the extra layers can just learn to perform an identity mapping.\n",
    "\n",
    "**Side Note**: Formula for dimension after Convolution\n",
    "* $m$ = Orignal dimension\n",
    "* $p$ = Padding\n",
    "* $k$ = Kernel size\n",
    "* $s$ = Stride\n",
    "* $m'$ = New dimension\n",
    "\n",
    "$ m' = \\frac{m + 2p - k}{s} + 1$\n",
    "\n",
    "# Residual Learning\n",
    "Formally, denoting the desired underlying mapping as $H(x)$\n",
    ", we let the stacked nonlinear layers fit another mapping of $F(x) = H(x) - x$ \n",
    ". The original mapping is recast into $H(x) = F(x) + x$\n",
    ".\n",
    "\n",
    "In this case, learning identity mapping for $H(x)$ is equivalent to learning $F(x)$ to be $0$, which is easier to learn. And thus at the very least the network will perform as well as a network without this **residual block**.\n",
    "\n",
    "There is empirical evidence that these types of network are easier to optimize, and can gain accuracy from considerably increased depth.\n",
    "\n",
    "In the parameterized form this can be written as,\n",
    "\n",
    "$F(x,{W_i\n",
    "​\n",
    " })+x$\n",
    "\n",
    "and when the feature map sizes of $F(x,W_i)$ and $x$ are different the paper suggests doing a **linear projection**, with learned weights $W_s$​.\n",
    "\n",
    "$F(x,{W_i})+W_sx$\n",
    "\n",
    "The paper also experimented with *zero padding* but found that *linear projection* worked better. Also when the feature map sizes match they found *identity mapping* to be better than *linear projections*.\n",
    "\n",
    "$F$ should have more than one layer, otherwise the sum $F(x,{W_i})+W_sx$ also won't have non-linearities and will be like a linear layer."
   ]
  },
  {
   "cell_type": "code",
   "execution_count": 1,
   "metadata": {},
   "outputs": [],
   "source": [
    "import torch\n",
    "from torch import nn"
   ]
  },
  {
   "cell_type": "markdown",
   "metadata": {},
   "source": [
    "# Linear Projections for Shortcut Connection\n",
    "This does the $W_sx$ projection described above. The projection shortcut in Eqn is used to match dimensions (done by 1×1 convolutions).\n",
    "\n",
    "Inputs for the `Module`:\n",
    "* `in_channels` :  is the number of channels in $x$\n",
    "* `out_channels` : is the number of channels in $F(x,{W_i})$\n",
    "* `stride` : is the stride length in the convolution operation for $F$. We do the same stride on the shortcut connection, to match the feature-map size."
   ]
  },
  {
   "cell_type": "code",
   "execution_count": 2,
   "metadata": {},
   "outputs": [],
   "source": [
    "class LinearProjection(nn.Module):\n",
    "    def __init__(self, in_channels: int, out_channels: int, stride: int):\n",
    "        super().__init__()\n",
    "        self.conv = nn.Conv2d(in_channels, out_channels, kernel_size=1, stride=stride) #Convolution layer for linear projection W_s.x\n",
    "        # New dimension = (m-k)/s +1 = (m-1)/s +1 \n",
    "        self.bn = nn.BatchNorm2d(out_channels)  # Paper suggests adding batch normalization after each convolution operation\n",
    "\n",
    "    def forward(self, x: torch.Tensor):\n",
    "        return self.bn(self.conv(x))"
   ]
  },
  {
   "cell_type": "markdown",
   "metadata": {},
   "source": [
    "# Residual Block\n",
    "Residual Blocks are **skip-connection** blocks that learn residual functions with reference to the layer inputs, instead of learning unreferenced functions. They were introduced as part of the ResNet architecture.\n",
    "\n",
    "The intuition is that it is *easier to optimize* the residual mapping than to optimize the original, unreferenced mapping. To the extreme, if an identity mapping\n",
    "$H(x) = x$\n",
    "were optimal, it would be easier to push the residual\n",
    "$F(x)$\n",
    "to zero than to fit an identity mapping by a stack of nonlinear layers. \n",
    ">Having skip connections allows the network to more easily learn identity-like mappings than a stack of nonlinear layers\n",
    "\n",
    "<img src=\"https://production-media.paperswithcode.com/methods/resnet-e1548261477164_2_mD02h5A.png\" alt=\"Residual Block\" width=\"300\" height=\"230\">"
   ]
  },
  {
   "cell_type": "markdown",
   "metadata": {},
   "source": [
    "## Implementing the Residual Block\n",
    "\n",
    "The first convolution layer maps from `in_channels` to `out_channels` , where the `out_channels` is higher than `in_channels` when we reduce the feature map size with a stride length greater than 1.\n",
    "\n",
    "The second convolution layer maps from `out_channels` to `out_channels` and always has a stride length of 1.\n",
    "\n",
    "Both convolution layers are followed by batch normalization.\n",
    "\n",
    "* `in_channels` : is the number of channels in x\n",
    "* `out_channels` : is the number of output channels\n",
    "* `stride` : is the stride length in the convolution operation."
   ]
  },
  {
   "cell_type": "code",
   "execution_count": 3,
   "metadata": {},
   "outputs": [],
   "source": [
    "class ResidualBlock(nn.Module):\n",
    "    def __init__(self, in_channels: int, out_channels: int, stride: int):\n",
    "        super().__init__()\n",
    "        self.conv1 = nn.Conv2d(in_channels=in_channels, out_channels=out_channels, kernel_size=3, stride=stride, padding=1) \n",
    "        # New Dim = (m+2-3)/s +1 = (m-1)/s +1 = m'\n",
    "        self.bn1 = nn.BatchNorm2d(out_channels)\n",
    "        self.activation1 = nn.ReLU()\n",
    "        self.conv2 = nn.Conv2d(in_channels=out_channels, out_channels=out_channels, kernel_size=3, stride=1, padding=1) # same effect (on dimensions) as k=1 and p=0, ie Linear projection\n",
    "        # New Dim = (m' +2 -3)/1 +1 = m' = (m-1)/s +1\n",
    "        self.bn2 = nn.BatchNorm2d(out_channels)\n",
    "        \n",
    "        # Check for if the dimensions are matching else need to project\n",
    "        if stride != 1 or in_channels != out_channels:\n",
    "            self.shortcut = LinearProjection(in_channels, out_channels, stride) \n",
    "            # (m -1)/s +1 = m'\n",
    "        else:\n",
    "            self.shortcut = nn.Identity()\n",
    "        \n",
    "        self.activation2 = nn.ReLU()\n",
    "\n",
    "    def forward(self, x: torch.Tensor):\n",
    "        skip_con = self.shortcut(x)\n",
    "\n",
    "        x = self.activation1(self.bn1(self.conv1(x)))\n",
    "\n",
    "        x = self.bn2(self.conv2(x)) + skip_con\n",
    "\n",
    "        return self.activation2(x)"
   ]
  },
  {
   "cell_type": "markdown",
   "metadata": {},
   "source": [
    "# Bottleneck Residual Block\n",
    ">The use of a bottleneck reduces the number of parameters and matrix multiplications\n",
    "A Bottleneck Residual Block is a variant of the [**residual block**](#residual-block) that utilises *1x1 convolutions* to create a bottleneck. The use of a bottleneck reduces the number of parameters and matrix multiplications. The idea is to make residual blocks as thin as possible to increase depth and have less parameters. They were introduced as part of the ResNet architecture, and are used as part of deeper ResNets such as ResNet-50 and ResNet-101.\n",
    "\n",
    "<img src=\"https://production-media.paperswithcode.com/methods/Screen_Shot_2020-06-07_at_2.12.02_PM.png\" alt=\"Bottleneck Residual Block\" width=\"240\" height=\"400\">"
   ]
  },
  {
   "cell_type": "markdown",
   "metadata": {},
   "source": [
    "## Implementation\n",
    "It has 1×1, 3×3, and 1×1 convolution layers.\n",
    "\n",
    "The first convolution layer maps from `in_channels` to `bottleneck_channels` with a 1×1 convolution, where the `bottleneck_channels` is lower than `in_channels`.\n",
    "\n",
    "The second 3×3 convolution layer maps from `bottleneck_channels` to `bottleneck_channels` . This can have a stride length greater than 1 when we want to compress the feature map size.\n",
    "\n",
    "The third, final 1×1 convolution layer maps to `out_channels`. `out_channels` is higher than `in_channels` if the stride length is greater than 1; otherwise, `out_channels` is equal to `in_channels`.\n",
    "\n",
    "`bottleneck_channels` is less than `in_channels` and the 3×3 convolution is performed on this shrunk space (hence the bottleneck). The two 1×1 convolution decreases and increases the number of channels.\n",
    "\n",
    "Inputs:\n",
    "* `in_channels` : is the number of channels in $x$.\n",
    "* `bottleneck_channels` : is the number of channels for the 3×3 convlution\n",
    "* `out_channels` : is the number of output channels\n",
    "* `stride` : is the stride length in the 3×3 convolution operation."
   ]
  },
  {
   "cell_type": "code",
   "execution_count": 4,
   "metadata": {},
   "outputs": [],
   "source": [
    "class BottleneckResidualBlock(nn.Module):\n",
    "    def __init__(self, in_channels: int, bottleneck_channels: int, out_channels: int, stride: int):\n",
    "        super().__init__()\n",
    "        self.conv1 = nn.Conv2d(in_channels=in_channels, out_channels=bottleneck_channels, kernel_size=1, stride=1)\n",
    "        # m' = m\n",
    "        self.bn1 = nn.BatchNorm2d(bottleneck_channels)\n",
    "        self.activation1 = nn.ReLU()\n",
    "        self.conv2 = nn.Conv2d(in_channels=bottleneck_channels, out_channels=bottleneck_channels, kernel_size=3, stride=stride, padding=1)\n",
    "        # m'' = (m-1)/s +1\n",
    "        self.bn2 = nn.BatchNorm2d(bottleneck_channels)\n",
    "        self.activation2 = nn.ReLU()\n",
    "        self.conv3 = nn.Conv2d(in_channels=bottleneck_channels, out_channels=out_channels, kernel_size=1, stride=1)\n",
    "        # m' = m\n",
    "        self.bn3 = nn.BatchNorm2d(out_channels)\n",
    "\n",
    "        if stride != 1 or in_channels != out_channels:\n",
    "            self.skip = LinearProjection(in_channels=in_channels, out_channels=out_channels, stride=stride)\n",
    "        else:\n",
    "            self.skip = nn.Identity()\n",
    "\n",
    "        self.activation3 = nn.ReLU()\n",
    "\n",
    "    def forward(self, x: torch.Tensor):\n",
    "        skip = self.skip(x)\n",
    "\n",
    "        x = self.activation1(self.bn1(self.conv1(x)))\n",
    "\n",
    "        x = self.activation2(self.bn2(self.conv2(x)))\n",
    "\n",
    "        x = self.activation3( self.bn3(self.conv3(x)) + skip )\n",
    "\n",
    "        return x"
   ]
  },
  {
   "cell_type": "markdown",
   "metadata": {},
   "source": [
    "# ResNet Model\n",
    "This is a the base of the resnet model without the final linear layer and softmax for classification.\n",
    "\n",
    "The resnet is made of stacked [residual blocks](#residual-block) or [bottleneck residual blocks](#bottleneck-residual-block). The feature map size is halved after a few blocks with a block of stride length 2. The number of channels is increased when the feature map size is reduced. Finally the feature map is average pooled to get a vector representation.\n",
    "\n",
    "Inputs:\n",
    "* `n_blocks` : is a list of of number of blocks for each feature map size.\n",
    "* `n_channels` : is the number of channels for each feature map size.\n",
    "* `bottlenecks` : is the number of channels the bottlenecks. If this is None , residual blocks are used.\n",
    "* `img_channels` : is the number of channels in the input.\n",
    "* `first_kernel_size` : is the kernel size of the initial convolution layer"
   ]
  },
  {
   "cell_type": "code",
   "execution_count": 5,
   "metadata": {},
   "outputs": [],
   "source": [
    "from typing import List, Optional\n",
    "class ResNet(nn.Module):\n",
    "\n",
    "    def __init__(self, n_blocks: List[int] = [3, 3, 3], \n",
    "                 n_channels:  List[int] = [16, 32, 64], \n",
    "                 bottlenecks: Optional[List[int]] = None, # It is optional to have bottleneck blocks\n",
    "                 img_channels: int = 3, # By default 3\n",
    "                 first_kernel_size: int = 7 # As used in the paper\n",
    "                 ):\n",
    "        super().__init__()\n",
    "\n",
    "        assert len(n_blocks) == len(n_channels)     # Number of blocks and number of channels for each feature map size\n",
    "        \n",
    "        # If bottleneck residual blocks are used, the number of channels in bottlenecks should be provided for each feature map size\n",
    "        assert bottlenecks is None or len(bottlenecks) == len(n_channels)\n",
    "\n",
    "        self.conv1st = nn.Conv2d(img_channels, n_channels[0], kernel_size=first_kernel_size, stride=2, padding=first_kernel_size // 2)\n",
    "        self.bn = nn.BatchNorm2d(n_channels[0])\n",
    "\n",
    "        blocks = []\n",
    "\n",
    "        prev_channels = n_channels[0]\n",
    "\n",
    "        for i, channels in enumerate(n_channels):\n",
    "            # The first block for the new feature map size, will have a stride length of 2 except for the very first block\n",
    "            stride = 1 if len(blocks) == 0 else 2   \n",
    "\n",
    "            if bottlenecks is None:\n",
    "                blocks.append(ResidualBlock(in_channels=prev_channels, out_channels=channels, stride=stride))\n",
    "            else:\n",
    "                blocks.append(BottleneckResidualBlock(in_channels=prev_channels, bottleneck_channels=bottlenecks[i], out_channels=channels, stride=stride))\n",
    "\n",
    "            for _ in range(n_blocks[i] - 1):\n",
    "                if bottlenecks is None:\n",
    "                    blocks.append(ResidualBlock(in_channels=channels, out_channels=channels, stride=1))\n",
    "                else:\n",
    "                    blocks.append(BottleneckResidualBlock(in_channels=channels, bottleneck_channels=bottlenecks[i], out_channels=channels, stride=1))\n",
    "\n",
    "            prev_channels = channels\n",
    "        self.blocks = nn.Sequential(*blocks)\n",
    "\n",
    "    def forward(self, x: torch.Tensor):\n",
    "        \n",
    "        x = self.bn(self.conv1st(x))\n",
    "\n",
    "        x = self.blocks(x)\n",
    "\n",
    "        return x"
   ]
  },
  {
   "cell_type": "markdown",
   "metadata": {},
   "source": [
    "# Training\n",
    "As a running example we'll use the [CIFAR10](https://www.cs.toronto.edu/~kriz/cifar.html) dataset for training. But I'll try to write a more general purpose function."
   ]
  },
  {
   "cell_type": "code",
   "execution_count": 6,
   "metadata": {},
   "outputs": [],
   "source": [
    "import torch\n",
    "import torchvision\n",
    "import torchvision.transforms as transforms"
   ]
  },
  {
   "cell_type": "markdown",
   "metadata": {},
   "source": [
    "The output of torchvision datasets are PILImage images of range [0, 1]. We transform them to Tensors of normalized range [-1, 1]."
   ]
  },
  {
   "cell_type": "code",
   "execution_count": 7,
   "metadata": {},
   "outputs": [
    {
     "name": "stdout",
     "output_type": "stream",
     "text": [
      "Files already downloaded and verified\n",
      "Files already downloaded and verified\n"
     ]
    }
   ],
   "source": [
    "transform = transforms.Compose(\n",
    "    [transforms.ToTensor(),\n",
    "     transforms.Normalize((0.5, 0.5, 0.5), (0.5, 0.5, 0.5))])   # Given mean: (mean[1],...,mean[n]) and std: (std[1],..,std[n]) for n channels, this transform will normalize each channel of the input\n",
    "\n",
    "batch_size = 4\n",
    "\n",
    "trainset = torchvision.datasets.CIFAR10(root='./data', train=True, download=True, transform=transform)\n",
    "trainloader = torch.utils.data.DataLoader(trainset, batch_size=batch_size, shuffle=True, num_workers=2)\n",
    "\n",
    "testset = torchvision.datasets.CIFAR10(root='./data', train=False, download=True, transform=transform)\n",
    "testloader = torch.utils.data.DataLoader(testset, batch_size=batch_size, shuffle=False, num_workers=2)\n",
    "\n",
    "classes = ('plane', 'car', 'bird', 'cat', 'deer', 'dog', 'frog', 'horse', 'ship', 'truck')"
   ]
  },
  {
   "cell_type": "code",
   "execution_count": 8,
   "metadata": {},
   "outputs": [
    {
     "data": {
      "text/plain": [
       "(torch.Size([3, 32, 32]), 9)"
      ]
     },
     "execution_count": 8,
     "metadata": {},
     "output_type": "execute_result"
    }
   ],
   "source": [
    "x, y = trainset[1]\n",
    "x.shape, y"
   ]
  },
  {
   "cell_type": "code",
   "execution_count": 9,
   "metadata": {},
   "outputs": [
    {
     "data": {
      "text/plain": [
       "[b'batch_label', b'labels', b'data', b'filenames']"
      ]
     },
     "execution_count": 9,
     "metadata": {},
     "output_type": "execute_result"
    }
   ],
   "source": [
    "def unpickle(file):\n",
    "    import pickle\n",
    "    with open(file, 'rb') as fo:\n",
    "        dict = pickle.load(fo, encoding='bytes')\n",
    "    return dict\n",
    "\n",
    "file = '/root/Work/PaperImplementation/ResNet/data/cifar-10-batches-py/data_batch_1'\n",
    "bat1 = unpickle(file)\n",
    "keys = list(bat1.keys())\n",
    "keys"
   ]
  },
  {
   "cell_type": "code",
   "execution_count": 10,
   "metadata": {},
   "outputs": [
    {
     "data": {
      "text/plain": [
       "(10000, 3072)"
      ]
     },
     "execution_count": 10,
     "metadata": {},
     "output_type": "execute_result"
    }
   ],
   "source": [
    "bat1[keys[2]].shape"
   ]
  },
  {
   "cell_type": "markdown",
   "metadata": {},
   "source": [
    "Loaded in this way, each of the batch files contains a dictionary with the following elements:\n",
    "\n",
    "* `data` -- a $10000x3072$ numpy array of uint8s. Each row of the array stores a 32x32 colour image. The first 1024 entries contain the red channel values, the next 1024 the green, and the final 1024 the blue. The image is stored in row-major order, so that the first 32 entries of the array are the red channel values of the first row of the image.\n",
    "* `labels` -- a list of $10000$ numbers in the range 0-9. The number at index $i$ indicates the label of the ith image in the array data.\n",
    "\n",
    "The dataset contains another file, called batches.meta. It too contains a Python dictionary object. It has the following entries:\n",
    "\n",
    "* `label_names` -- a 10-element list which gives meaningful names to the numeric labels in the labels array described above. For example, `label_names[0] == \"airplane\"`, `label_names[1] == \"automobile\"`, etc.\n"
   ]
  },
  {
   "cell_type": "code",
   "execution_count": 11,
   "metadata": {},
   "outputs": [
    {
     "data": {
      "image/png": "[encoded data removed]",
      "text/plain": [
       "<Figure size 640x480 with 1 Axes>"
      ]
     },
     "metadata": {},
     "output_type": "display_data"
    },
    {
     "name": "stdout",
     "output_type": "stream",
     "text": [
      "horse car   horse truck\n"
     ]
    }
   ],
   "source": [
    "import matplotlib.pyplot as plt\n",
    "import numpy as np\n",
    "\n",
    "# functions to show an image\n",
    "\n",
    "\n",
    "def imshow(img):\n",
    "    img = img / 2 + 0.5     # unnormalize\n",
    "    npimg = img.numpy()\n",
    "    plt.imshow(np.transpose(npimg, (1, 2, 0)))\n",
    "    plt.show()\n",
    "\n",
    "\n",
    "# get some random training images\n",
    "dataiter = iter(trainloader)\n",
    "images, labels = next(dataiter)\n",
    "\n",
    "# show images\n",
    "imshow(torchvision.utils.make_grid(images))\n",
    "# print labels\n",
    "print(' '.join(f'{classes[labels[j]]:5s}' for j in range(batch_size)))"
   ]
  },
  {
   "cell_type": "code",
   "execution_count": 12,
   "metadata": {},
   "outputs": [],
   "source": [
    "import torch.nn as nn\n",
    "import torch.nn.functional as F\n",
    "\n",
    "\n",
    "class Net(nn.Module):\n",
    "    def __init__(self):\n",
    "        super().__init__()\n",
    "        self.conv1 = nn.Conv2d(3, 6, 5)\n",
    "        self.pool = nn.MaxPool2d(2, 2)\n",
    "        self.conv2 = nn.Conv2d(6, 16, 5)\n",
    "        self.fc1 = nn.Linear(16 * 5 * 5, 120)\n",
    "        self.fc2 = nn.Linear(120, 84)\n",
    "        self.fc3 = nn.Linear(84, 10)\n",
    "\n",
    "    def forward(self, x):\n",
    "        x = self.pool(F.relu(self.conv1(x)))\n",
    "        x = self.pool(F.relu(self.conv2(x)))\n",
    "        x = torch.flatten(x, 1) # flatten all dimensions except batch\n",
    "        x = F.relu(self.fc1(x))\n",
    "        x = F.relu(self.fc2(x))\n",
    "        x = self.fc3(x)\n",
    "        return x\n",
    "\n",
    "\n",
    "net = Net()"
   ]
  },
  {
   "cell_type": "code",
   "execution_count": 13,
   "metadata": {},
   "outputs": [],
   "source": [
    "import torch.optim as optim\n",
    "\n",
    "criterion = nn.CrossEntropyLoss()\n",
    "optimizer = optim.SGD(net.parameters(), lr=0.001, momentum=0.9)"
   ]
  },
  {
   "cell_type": "code",
   "execution_count": 14,
   "metadata": {},
   "outputs": [
    {
     "name": "stdout",
     "output_type": "stream",
     "text": [
      "[1,  2000] loss: 2.153\n",
      "[1,  4000] loss: 1.834\n",
      "[1,  6000] loss: 1.667\n",
      "[1,  8000] loss: 1.574\n",
      "[1, 10000] loss: 1.511\n",
      "[1, 12000] loss: 1.487\n",
      "Finished Training\n"
     ]
    }
   ],
   "source": [
    "for epoch in range(1):  # loop over the dataset multiple times\n",
    "\n",
    "    running_loss = 0.0\n",
    "    for i, data in enumerate(trainloader, 0):\n",
    "        # get the inputs; data is a list of [inputs, labels]\n",
    "        inputs, labels = data\n",
    "\n",
    "        # zero the parameter gradients\n",
    "        optimizer.zero_grad()\n",
    "\n",
    "        # forward + backward + optimize\n",
    "        outputs = net(inputs)\n",
    "        loss = criterion(outputs, labels)\n",
    "        loss.backward()\n",
    "        optimizer.step()\n",
    "\n",
    "        # print statistics\n",
    "        running_loss += loss.item()\n",
    "        if i % 2000 == 1999:    # print every 2000 mini-batches\n",
    "            print(f'[{epoch + 1}, {i + 1:5d}] loss: {running_loss / 2000:.3f}')\n",
    "            running_loss = 0.0\n",
    "\n",
    "print('Finished Training')"
   ]
  },
  {
   "cell_type": "code",
   "execution_count": 15,
   "metadata": {},
   "outputs": [
    {
     "data": {
      "text/plain": [
       "(torch.Size([1, 10]), 'car', 'car')"
      ]
     },
     "execution_count": 15,
     "metadata": {},
     "output_type": "execute_result"
    }
   ],
   "source": [
    "x, y = trainset[5]\n",
    "x.unsqueeze_(0)\n",
    "net.eval()\n",
    "out = net(x)\n",
    "out.shape, classes[torch.argmax(out)], classes[y]"
   ]
  },
  {
   "cell_type": "code",
   "execution_count": 16,
   "metadata": {},
   "outputs": [
    {
     "data": {
      "image/png": "[encoded data removed]",
      "text/plain": [
       "<Figure size 640x480 with 1 Axes>"
      ]
     },
     "metadata": {},
     "output_type": "display_data"
    },
    {
     "name": "stdout",
     "output_type": "stream",
     "text": [
      "GroundTruth:  cat   ship  ship  plane\n"
     ]
    }
   ],
   "source": [
    "dataiter = iter(testloader)\n",
    "images, labels = next(dataiter)\n",
    "\n",
    "# print images\n",
    "imshow(torchvision.utils.make_grid(images))\n",
    "print('GroundTruth: ', ' '.join(f'{classes[labels[j]]:5s}' for j in range(4)))"
   ]
  },
  {
   "cell_type": "code",
   "execution_count": 17,
   "metadata": {},
   "outputs": [],
   "source": [
    "outputs = net(images)"
   ]
  },
  {
   "cell_type": "code",
   "execution_count": 18,
   "metadata": {},
   "outputs": [
    {
     "name": "stdout",
     "output_type": "stream",
     "text": [
      "Predicted:  bird  car   car   plane\n"
     ]
    }
   ],
   "source": [
    "_, predicted = torch.max(outputs, 1)\n",
    "\n",
    "print('Predicted: ', ' '.join(f'{classes[predicted[j]]:5s}'\n",
    "                              for j in range(4)))"
   ]
  },
  {
   "cell_type": "code",
   "execution_count": 19,
   "metadata": {},
   "outputs": [],
   "source": [
    "class classifier(nn.Module):\n",
    "    def __init__(self, base: nn.Module, input_shape: tuple, n_classes: int):\n",
    "        super().__init__()\n",
    "        \n",
    "        self.base = base\n",
    "        # Figuring out the size of the outputs\n",
    "        input = torch.randn(input_shape)\n",
    "        base_out = base(input.unsqueeze(0))\n",
    "        in_linear = nn.Flatten()(base_out)\n",
    "        in_linear = in_linear.shape[1]\n",
    "\n",
    "        self.bn = nn.BatchNorm2d(base_out.shape[1])\n",
    "        self.flat = nn.Flatten()\n",
    "        self.fc1 = nn.Linear(in_features=in_linear, out_features=int(2**n_classes))\n",
    "        self.fc2 = nn.Linear(in_features=int(2**n_classes), out_features=int(2**n_classes/4))\n",
    "        self.fc3 = nn.Linear(in_features=int(2**n_classes/4), out_features=n_classes)\n",
    "        self.act = nn.ReLU()\n",
    "        self.drop = nn.Dropout()\n",
    "\n",
    "\n",
    "    def forward(self, x):\n",
    "        x = self.base(x)\n",
    "        x = self.bn(x)\n",
    "        x = self.flat(x)\n",
    "        x = self.drop(x)\n",
    "\n",
    "        x = self.act(self.fc1(x))\n",
    "        x = self.drop(x)\n",
    "\n",
    "        x = self.act(self.fc2(x))\n",
    "        x = self.drop(x)\n",
    "        \n",
    "        x = self.fc3(x)\n",
    "        x = torch.nn.functional.softmax(x)\n",
    "        return x\n"
   ]
  },
  {
   "cell_type": "code",
   "execution_count": 20,
   "metadata": {},
   "outputs": [
    {
     "data": {
      "text/plain": [
       "classifier(\n",
       "  (base): ResNet(\n",
       "    (conv1st): Conv2d(3, 16, kernel_size=(7, 7), stride=(2, 2), padding=(3, 3))\n",
       "    (bn): BatchNorm2d(16, eps=1e-05, momentum=0.1, affine=True, track_running_stats=True)\n",
       "    (blocks): Sequential(\n",
       "      (0): ResidualBlock(\n",
       "        (conv1): Conv2d(16, 16, kernel_size=(3, 3), stride=(1, 1), padding=(1, 1))\n",
       "        (bn1): BatchNorm2d(16, eps=1e-05, momentum=0.1, affine=True, track_running_stats=True)\n",
       "        (activation1): ReLU()\n",
       "        (conv2): Conv2d(16, 16, kernel_size=(3, 3), stride=(1, 1), padding=(1, 1))\n",
       "        (bn2): BatchNorm2d(16, eps=1e-05, momentum=0.1, affine=True, track_running_stats=True)\n",
       "        (shortcut): Identity()\n",
       "        (activation2): ReLU()\n",
       "      )\n",
       "      (1): ResidualBlock(\n",
       "        (conv1): Conv2d(16, 16, kernel_size=(3, 3), stride=(1, 1), padding=(1, 1))\n",
       "        (bn1): BatchNorm2d(16, eps=1e-05, momentum=0.1, affine=True, track_running_stats=True)\n",
       "        (activation1): ReLU()\n",
       "        (conv2): Conv2d(16, 16, kernel_size=(3, 3), stride=(1, 1), padding=(1, 1))\n",
       "        (bn2): BatchNorm2d(16, eps=1e-05, momentum=0.1, affine=True, track_running_stats=True)\n",
       "        (shortcut): Identity()\n",
       "        (activation2): ReLU()\n",
       "      )\n",
       "      (2): ResidualBlock(\n",
       "        (conv1): Conv2d(16, 16, kernel_size=(3, 3), stride=(1, 1), padding=(1, 1))\n",
       "        (bn1): BatchNorm2d(16, eps=1e-05, momentum=0.1, affine=True, track_running_stats=True)\n",
       "        (activation1): ReLU()\n",
       "        (conv2): Conv2d(16, 16, kernel_size=(3, 3), stride=(1, 1), padding=(1, 1))\n",
       "        (bn2): BatchNorm2d(16, eps=1e-05, momentum=0.1, affine=True, track_running_stats=True)\n",
       "        (shortcut): Identity()\n",
       "        (activation2): ReLU()\n",
       "      )\n",
       "      (3): ResidualBlock(\n",
       "        (conv1): Conv2d(16, 32, kernel_size=(3, 3), stride=(2, 2), padding=(1, 1))\n",
       "        (bn1): BatchNorm2d(32, eps=1e-05, momentum=0.1, affine=True, track_running_stats=True)\n",
       "        (activation1): ReLU()\n",
       "        (conv2): Conv2d(32, 32, kernel_size=(3, 3), stride=(1, 1), padding=(1, 1))\n",
       "        (bn2): BatchNorm2d(32, eps=1e-05, momentum=0.1, affine=True, track_running_stats=True)\n",
       "        (shortcut): LinearProjection(\n",
       "          (conv): Conv2d(16, 32, kernel_size=(1, 1), stride=(2, 2))\n",
       "          (bn): BatchNorm2d(32, eps=1e-05, momentum=0.1, affine=True, track_running_stats=True)\n",
       "        )\n",
       "        (activation2): ReLU()\n",
       "      )\n",
       "      (4): ResidualBlock(\n",
       "        (conv1): Conv2d(32, 32, kernel_size=(3, 3), stride=(1, 1), padding=(1, 1))\n",
       "        (bn1): BatchNorm2d(32, eps=1e-05, momentum=0.1, affine=True, track_running_stats=True)\n",
       "        (activation1): ReLU()\n",
       "        (conv2): Conv2d(32, 32, kernel_size=(3, 3), stride=(1, 1), padding=(1, 1))\n",
       "        (bn2): BatchNorm2d(32, eps=1e-05, momentum=0.1, affine=True, track_running_stats=True)\n",
       "        (shortcut): Identity()\n",
       "        (activation2): ReLU()\n",
       "      )\n",
       "      (5): ResidualBlock(\n",
       "        (conv1): Conv2d(32, 32, kernel_size=(3, 3), stride=(1, 1), padding=(1, 1))\n",
       "        (bn1): BatchNorm2d(32, eps=1e-05, momentum=0.1, affine=True, track_running_stats=True)\n",
       "        (activation1): ReLU()\n",
       "        (conv2): Conv2d(32, 32, kernel_size=(3, 3), stride=(1, 1), padding=(1, 1))\n",
       "        (bn2): BatchNorm2d(32, eps=1e-05, momentum=0.1, affine=True, track_running_stats=True)\n",
       "        (shortcut): Identity()\n",
       "        (activation2): ReLU()\n",
       "      )\n",
       "      (6): ResidualBlock(\n",
       "        (conv1): Conv2d(32, 64, kernel_size=(3, 3), stride=(2, 2), padding=(1, 1))\n",
       "        (bn1): BatchNorm2d(64, eps=1e-05, momentum=0.1, affine=True, track_running_stats=True)\n",
       "        (activation1): ReLU()\n",
       "        (conv2): Conv2d(64, 64, kernel_size=(3, 3), stride=(1, 1), padding=(1, 1))\n",
       "        (bn2): BatchNorm2d(64, eps=1e-05, momentum=0.1, affine=True, track_running_stats=True)\n",
       "        (shortcut): LinearProjection(\n",
       "          (conv): Conv2d(32, 64, kernel_size=(1, 1), stride=(2, 2))\n",
       "          (bn): BatchNorm2d(64, eps=1e-05, momentum=0.1, affine=True, track_running_stats=True)\n",
       "        )\n",
       "        (activation2): ReLU()\n",
       "      )\n",
       "      (7): ResidualBlock(\n",
       "        (conv1): Conv2d(64, 64, kernel_size=(3, 3), stride=(1, 1), padding=(1, 1))\n",
       "        (bn1): BatchNorm2d(64, eps=1e-05, momentum=0.1, affine=True, track_running_stats=True)\n",
       "        (activation1): ReLU()\n",
       "        (conv2): Conv2d(64, 64, kernel_size=(3, 3), stride=(1, 1), padding=(1, 1))\n",
       "        (bn2): BatchNorm2d(64, eps=1e-05, momentum=0.1, affine=True, track_running_stats=True)\n",
       "        (shortcut): Identity()\n",
       "        (activation2): ReLU()\n",
       "      )\n",
       "      (8): ResidualBlock(\n",
       "        (conv1): Conv2d(64, 64, kernel_size=(3, 3), stride=(1, 1), padding=(1, 1))\n",
       "        (bn1): BatchNorm2d(64, eps=1e-05, momentum=0.1, affine=True, track_running_stats=True)\n",
       "        (activation1): ReLU()\n",
       "        (conv2): Conv2d(64, 64, kernel_size=(3, 3), stride=(1, 1), padding=(1, 1))\n",
       "        (bn2): BatchNorm2d(64, eps=1e-05, momentum=0.1, affine=True, track_running_stats=True)\n",
       "        (shortcut): Identity()\n",
       "        (activation2): ReLU()\n",
       "      )\n",
       "    )\n",
       "  )\n",
       "  (bn): BatchNorm2d(64, eps=1e-05, momentum=0.1, affine=True, track_running_stats=True)\n",
       "  (flat): Flatten(start_dim=1, end_dim=-1)\n",
       "  (fc1): Linear(in_features=1024, out_features=1024, bias=True)\n",
       "  (fc2): Linear(in_features=1024, out_features=256, bias=True)\n",
       "  (fc3): Linear(in_features=256, out_features=10, bias=True)\n",
       "  (act): ReLU()\n",
       "  (drop): Dropout(p=0.5, inplace=False)\n",
       ")"
      ]
     },
     "execution_count": 20,
     "metadata": {},
     "output_type": "execute_result"
    }
   ],
   "source": [
    "base = ResNet()\n",
    "net = classifier(base, (3, 32, 32), 10)\n",
    "net"
   ]
  }
 ],
 "metadata": {
  "kernelspec": {
   "display_name": "papers",
   "language": "python",
   "name": "python3"
  },
  "language_info": {
   "codemirror_mode": {
    "name": "ipython",
    "version": 3
   },
   "file_extension": ".py",
   "mimetype": "text/x-python",
   "name": "python",
   "nbconvert_exporter": "python",
   "pygments_lexer": "ipython3",
   "version": "3.11.4"
  },
  "orig_nbformat": 4
 },
 "nbformat": 4,
 "nbformat_minor": 2
}
